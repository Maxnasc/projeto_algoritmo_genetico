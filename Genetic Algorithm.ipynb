{
 "cells": [
  {
   "cell_type": "markdown",
   "metadata": {
    "id": "tTHEYq91vcNN"
   },
   "source": [
    "## Funções escolhidas\n",
    "\n",
    "link 01: [Shubert Function](https://www.sfu.ca/~ssurjano/shubert.html)\n",
    "link 02: [Six-Hump Camel Function](https://www.sfu.ca/~ssurjano/camel6.html)\n"
   ]
  }
 ],
 "metadata": {
  "colab": {
   "authorship_tag": "ABX9TyME1wK2b8+fAxxJJm5kQu9F",
   "provenance": []
  },
  "kernelspec": {
   "display_name": "Python 3",
   "name": "python3"
  },
  "language_info": {
   "codemirror_mode": {
    "name": "ipython",
    "version": 3
   },
   "file_extension": ".py",
   "mimetype": "text/x-python",
   "name": "python",
   "nbconvert_exporter": "python",
   "pygments_lexer": "ipython3",
   "version": "3.11.12"
  }
 },
 "nbformat": 4,
 "nbformat_minor": 0
}
