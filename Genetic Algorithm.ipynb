{
 "cells": [
  {
   "cell_type": "markdown",
   "metadata": {
    "id": "tTHEYq91vcNN"
   },
   "source": [
    "## Funções escolhidas\n",
    "\n",
    "link 01: [Shubert Function](https://www.sfu.ca/~ssurjano/shubert.html)\n",
    "link 02: [Six-Hump Camel Function](https://www.sfu.ca/~ssurjano/camel6.html)\n",
    "\n",
    "## Shubert\n",
    "precisão = 0,000019074\n",
    "\n",
    "## Six-Hump Camel Function\n",
    "precisão x1 = 0,000005722\n",
    "precisão x2 = 0,000003815\n"
   ]
  },
  {
   "cell_type": "code",
   "execution_count": 5,
   "metadata": {
    "executionInfo": {
     "elapsed": 23,
     "status": "ok",
     "timestamp": 1745517379512,
     "user": {
      "displayName": "MAX DEIVID DO NASCIMENTO",
      "userId": "11474524761603100074"
     },
     "user_tz": 180
    },
    "id": "5CsIPhrJ6KrL"
   },
   "outputs": [],
   "source": [
    "import random"
   ]
  },
  {
   "cell_type": "code",
   "execution_count": 6,
   "metadata": {
    "executionInfo": {
     "elapsed": 7,
     "status": "ok",
     "timestamp": 1745517380763,
     "user": {
      "displayName": "MAX DEIVID DO NASCIMENTO",
      "userId": "11474524761603100074"
     },
     "user_tz": 180
    },
    "id": "EXGudq2ZvDUR"
   },
   "outputs": [],
   "source": [
    "# Configuração inicial\n",
    "population_size = 100\n",
    "number_of_genes = 40"
   ]
  },
  {
   "cell_type": "code",
   "execution_count": 7,
   "metadata": {
    "executionInfo": {
     "elapsed": 43,
     "status": "ok",
     "timestamp": 1745517391340,
     "user": {
      "displayName": "MAX DEIVID DO NASCIMENTO",
      "userId": "11474524761603100074"
     },
     "user_tz": 180
    },
    "id": "pPo46kl06EaX"
   },
   "outputs": [],
   "source": [
    "def generate_population():\n",
    "  return [[random.choice([0,1]) for gene in range(number_of_genes)] for gene in range(population_size)]"
   ]
  },
  {
   "cell_type": "code",
   "execution_count": 8,
   "metadata": {
    "executionInfo": {
     "elapsed": 32,
     "status": "ok",
     "timestamp": 1745517405146,
     "user": {
      "displayName": "MAX DEIVID DO NASCIMENTO",
      "userId": "11474524761603100074"
     },
     "user_tz": 180
    },
    "id": "tSYFJigj52UY"
   },
   "outputs": [],
   "source": [
    "if __name__==\"__main__\":\n",
    "  poppulation = generate_population()\n",
    "  a = 1"
   ]
  }
 ],
 "metadata": {
  "colab": {
   "authorship_tag": "ABX9TyME1wK2b8+fAxxJJm5kQu9F",
   "provenance": []
  },
  "kernelspec": {
   "display_name": "Python 3",
   "name": "python3"
  },
  "language_info": {
   "codemirror_mode": {
    "name": "ipython",
    "version": 3
   },
   "file_extension": ".py",
   "mimetype": "text/x-python",
   "name": "python",
   "nbconvert_exporter": "python",
   "pygments_lexer": "ipython3",
   "version": "3.11.12"
  }
 },
 "nbformat": 4,
 "nbformat_minor": 0
}
